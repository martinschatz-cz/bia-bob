{
 "cells": [
  {
   "cell_type": "markdown",
   "id": "9f85b035-d460-4e78-9ed3-031aac8ae05e",
   "metadata": {},
   "source": [
    "# Generating files\n",
    "Bob can also generate files of formats such as  \".md\", \".txt\", \".csv\", \".yml\", \".yaml\", \".json\" or \".py\" with specified content."
   ]
  },
  {
   "cell_type": "code",
   "execution_count": 1,
   "id": "58f8046e-2279-4145-9d0c-6d1a6dbb050b",
   "metadata": {},
   "outputs": [],
   "source": [
    "import bia_bob"
   ]
  },
  {
   "cell_type": "code",
   "execution_count": 3,
   "id": "1b178d84-5c99-48da-bae9-159df43306c4",
   "metadata": {},
   "outputs": [
    {
     "data": {
      "text/markdown": [
       "The file has been saved as [europe_1.csv](europe_1.csv)."
      ],
      "text/plain": [
       "<IPython.core.display.Markdown object>"
      ]
     },
     "metadata": {},
     "output_type": "display_data"
    }
   ],
   "source": [
    "%bob generate a \"europe.csv\" file with three columns \"Country\", \"Area\", and \"Population\" with all European countries as rows."
   ]
  },
  {
   "cell_type": "code",
   "execution_count": null,
   "id": "0c6485f4-b5d8-4ad2-a06a-5483b1f8e8a1",
   "metadata": {},
   "outputs": [],
   "source": []
  }
 ],
 "metadata": {
  "kernelspec": {
   "display_name": "Python 3 (ipykernel)",
   "language": "python",
   "name": "python3"
  },
  "language_info": {
   "codemirror_mode": {
    "name": "ipython",
    "version": 3
   },
   "file_extension": ".py",
   "mimetype": "text/x-python",
   "name": "python",
   "nbconvert_exporter": "python",
   "pygments_lexer": "ipython3",
   "version": "3.11.9"
  }
 },
 "nbformat": 4,
 "nbformat_minor": 5
}
